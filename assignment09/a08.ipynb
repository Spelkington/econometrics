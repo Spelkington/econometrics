{
 "cells": [
  {
   "cell_type": "markdown",
   "metadata": {},
   "source": [
    "# Empirical Exercise 9: Income Growth Before and After Taxes and Transfers\n",
    "\n",
    "In class, we discussed how the official measure of poverty and certain measures\n",
    "of household income exclude taxes and many social insurance and transfer\n",
    "benefits.(Others, like the supplemental poverty measure and more comprehensive\n",
    "measures of income **do** include taxes and transfers.)\n",
    "\n",
    "The inclusion or exclusion of tax and transfer policies from measures of\n",
    "household wellbeing may tell very different stories about how American families\n",
    "are doing over time. According to the official poverty measure, for example,\n",
    "there has been little improvement in poverty rates over time, leading some to\n",
    "conclude (erroneously!) that efforts to reduce poverty have been in vain. At the\n",
    "other end of the spectrum, some critics argue (also erroneously!) that when you\n",
    "include taxes and transfers, there has been no increase in income inequality\n",
    "over time.\n",
    "\n",
    "The truth is somewhere in between. To get at this issue, today’s assignment is\n",
    "to take one of the most comprehensive measures of income produced for policy\n",
    "analysis for the Congressional Budget Office, and examine how tax and transfer \n",
    "policies have affected the well-being of American households.\n",
    "\n",
    "Your goal in the exercise is to understand to what extent tax and transfer \n",
    "policies have helped American families, and to what extent it offset increases \n",
    "in income inequality. Which households benefitted the most from changes in tax \n",
    "and transfer policy over time? After accounting for taxes and transfers, for \n",
    "which groups (if any) has inequality increased or declined?\n",
    "\n",
    "In particular, use the CBO data to identify one group that benefitted \n",
    "substantially from changes in tax and transfer policy changes between 1979 and \n",
    "2017 and compare them to one other group that benefited less. Did inequality \n",
    "(the difference in the growth of after-tax, after-transfer income) between those \n",
    "groups decline or increase?\n",
    "\n",
    "Please measure the change in income for each group on a per-capita basis \n",
    "relative to 1979 (form an index). \n",
    "\n",
    "Describe your conclusions in a few sentences: who was helped by tax and transfer \n",
    "policy? How did these changes affect inequality in income between those groups?  "
   ]
  },
  {
   "cell_type": "code",
   "execution_count": 1,
   "metadata": {},
   "outputs": [],
   "source": [
    "# Import necessary libraries\n",
    "import numpy as np \n",
    "import pandas as pd"
   ]
  },
  {
   "cell_type": "code",
   "execution_count": 7,
   "metadata": {},
   "outputs": [
    {
     "data": {
      "text/html": "<div>\n<style scoped>\n    .dataframe tbody tr th:only-of-type {\n        vertical-align: middle;\n    }\n\n    .dataframe tbody tr th {\n        vertical-align: top;\n    }\n\n    .dataframe thead th {\n        text-align: right;\n    }\n</style>\n<table border=\"1\" class=\"dataframe\">\n  <thead>\n    <tr style=\"text-align: right;\">\n      <th></th>\n      <th>household_type</th>\n      <th>income_group</th>\n      <th>year</th>\n      <th>market_income</th>\n      <th>social_insurance_benefits</th>\n      <th>means_tested_transfers</th>\n      <th>federal_taxes</th>\n      <th>num_households</th>\n      <th>num_people</th>\n    </tr>\n  </thead>\n  <tbody>\n    <tr>\n      <th>0</th>\n      <td>all_households</td>\n      <td>all_quintiles</td>\n      <td>1979</td>\n      <td>62300</td>\n      <td>4700</td>\n      <td>1500</td>\n      <td>15000</td>\n      <td>81.1</td>\n      <td>221.9</td>\n    </tr>\n    <tr>\n      <th>1</th>\n      <td>all_households</td>\n      <td>all_quintiles</td>\n      <td>1980</td>\n      <td>60100</td>\n      <td>5000</td>\n      <td>1500</td>\n      <td>14600</td>\n      <td>82.6</td>\n      <td>224.5</td>\n    </tr>\n    <tr>\n      <th>2</th>\n      <td>all_households</td>\n      <td>all_quintiles</td>\n      <td>1981</td>\n      <td>60100</td>\n      <td>5300</td>\n      <td>1600</td>\n      <td>14800</td>\n      <td>83.8</td>\n      <td>226.0</td>\n    </tr>\n    <tr>\n      <th>3</th>\n      <td>all_households</td>\n      <td>all_quintiles</td>\n      <td>1982</td>\n      <td>59700</td>\n      <td>5800</td>\n      <td>1500</td>\n      <td>13600</td>\n      <td>84.3</td>\n      <td>227.6</td>\n    </tr>\n    <tr>\n      <th>4</th>\n      <td>all_households</td>\n      <td>all_quintiles</td>\n      <td>1983</td>\n      <td>60200</td>\n      <td>5900</td>\n      <td>1600</td>\n      <td>13600</td>\n      <td>85.8</td>\n      <td>229.4</td>\n    </tr>\n  </tbody>\n</table>\n</div>",
      "text/plain": "   household_type   income_group  year  market_income  \\\n0  all_households  all_quintiles  1979          62300   \n1  all_households  all_quintiles  1980          60100   \n2  all_households  all_quintiles  1981          60100   \n3  all_households  all_quintiles  1982          59700   \n4  all_households  all_quintiles  1983          60200   \n\n   social_insurance_benefits  means_tested_transfers  federal_taxes  \\\n0                       4700                    1500          15000   \n1                       5000                    1500          14600   \n2                       5300                    1600          14800   \n3                       5800                    1500          13600   \n4                       5900                    1600          13600   \n\n   num_households  num_people  \n0            81.1       221.9  \n1            82.6       224.5  \n2            83.8       226.0  \n3            84.3       227.6  \n4            85.8       229.4  "
     },
     "execution_count": 7,
     "metadata": {},
     "output_type": "execute_result"
    }
   ],
   "source": [
    "df = pd.read_csv(\"CBO_income_detail.csv\")\n",
    "\n",
    "keeps = [\n",
    "    \"household_type\",\n",
    "    \"income_group\",\n",
    "    \"year\",\n",
    "    \"market_income\",\n",
    "    \"social_insurance_benefits\",\n",
    "    \"means_tested_transfers\",\n",
    "    \"federal_taxes\",\n",
    "    \"num_households\",\n",
    "    \"num_people\",\n",
    "]\n",
    "\n",
    "df = df[keeps]\n",
    "\n",
    "print(len(df))\n",
    "df.head()"
   ]
  }
 ],
 "metadata": {
  "kernelspec": {
   "display_name": "Python 3.8.5 64-bit ('base': conda)",
   "name": "python385jvsc74a57bd0efbb5f7d76e5561efa460d8a45b55d0b8eb2623c98d4274e36b0d68e9bc5c8fe"
  },
  "language_info": {
   "codemirror_mode": {
    "name": "ipython",
    "version": 3
   },
   "file_extension": ".py",
   "mimetype": "text/x-python",
   "name": "python",
   "nbconvert_exporter": "python",
   "pygments_lexer": "ipython3",
   "version": "3.8.5"
  },
  "orig_nbformat": 2
 },
 "nbformat": 4,
 "nbformat_minor": 2
}