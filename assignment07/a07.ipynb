{
 "cells": [
  {
   "cell_type": "code",
   "execution_count": 1,
   "metadata": {},
   "outputs": [],
   "source": [
    "import os\n",
    "import pandas as pd\n",
    "import numpy as np\n",
    "import datetime as dt\n",
    "from fredapi import Fred"
   ]
  },
  {
   "cell_type": "code",
   "execution_count": 2,
   "metadata": {},
   "outputs": [],
   "source": [
    "key = \"\"\n",
    "with open(f\"../assets/fred.key\", \"r\") as file:\n",
    "    key = file.read()\n",
    "\n",
    "fred = Fred(api_key = key)"
   ]
  },
  {
   "cell_type": "code",
   "execution_count": 3,
   "metadata": {},
   "outputs": [
    {
     "data": {
      "text/html": "<div>\n<style scoped>\n    .dataframe tbody tr th:only-of-type {\n        vertical-align: middle;\n    }\n\n    .dataframe tbody tr th {\n        vertical-align: top;\n    }\n\n    .dataframe thead th {\n        text-align: right;\n    }\n</style>\n<table border=\"1\" class=\"dataframe\">\n  <thead>\n    <tr style=\"text-align: right;\">\n      <th></th>\n      <th>HCOMPBS</th>\n      <th>OPHPBS</th>\n      <th>PCEPI</th>\n      <th>CPIAUCSL</th>\n      <th>IPDBS</th>\n    </tr>\n  </thead>\n  <tbody>\n    <tr>\n      <th>1947-01-01</th>\n      <td>3.464</td>\n      <td>20.351</td>\n      <td>NaN</td>\n      <td>21.480</td>\n      <td>14.646</td>\n    </tr>\n    <tr>\n      <th>1947-04-01</th>\n      <td>3.565</td>\n      <td>20.440</td>\n      <td>NaN</td>\n      <td>22.000</td>\n      <td>14.847</td>\n    </tr>\n    <tr>\n      <th>1947-07-01</th>\n      <td>3.618</td>\n      <td>20.235</td>\n      <td>NaN</td>\n      <td>22.230</td>\n      <td>15.240</td>\n    </tr>\n    <tr>\n      <th>1947-10-01</th>\n      <td>3.751</td>\n      <td>20.502</td>\n      <td>NaN</td>\n      <td>22.910</td>\n      <td>15.662</td>\n    </tr>\n    <tr>\n      <th>1948-01-01</th>\n      <td>3.802</td>\n      <td>20.981</td>\n      <td>NaN</td>\n      <td>23.680</td>\n      <td>15.775</td>\n    </tr>\n    <tr>\n      <th>...</th>\n      <td>...</td>\n      <td>...</td>\n      <td>...</td>\n      <td>...</td>\n      <td>...</td>\n    </tr>\n    <tr>\n      <th>2019-10-01</th>\n      <td>121.051</td>\n      <td>108.729</td>\n      <td>110.377</td>\n      <td>257.387</td>\n      <td>110.786</td>\n    </tr>\n    <tr>\n      <th>2020-01-01</th>\n      <td>123.643</td>\n      <td>108.619</td>\n      <td>110.917</td>\n      <td>258.687</td>\n      <td>111.004</td>\n    </tr>\n    <tr>\n      <th>2020-04-01</th>\n      <td>130.359</td>\n      <td>111.257</td>\n      <td>110.131</td>\n      <td>256.192</td>\n      <td>109.787</td>\n    </tr>\n    <tr>\n      <th>2020-07-01</th>\n      <td>128.764</td>\n      <td>112.750</td>\n      <td>111.152</td>\n      <td>258.604</td>\n      <td>111.027</td>\n    </tr>\n    <tr>\n      <th>2020-10-01</th>\n      <td>129.013</td>\n      <td>111.339</td>\n      <td>111.716</td>\n      <td>260.462</td>\n      <td>111.575</td>\n    </tr>\n  </tbody>\n</table>\n<p>296 rows × 5 columns</p>\n</div>",
      "text/plain": "            HCOMPBS   OPHPBS    PCEPI  CPIAUCSL    IPDBS\n1947-01-01    3.464   20.351      NaN    21.480   14.646\n1947-04-01    3.565   20.440      NaN    22.000   14.847\n1947-07-01    3.618   20.235      NaN    22.230   15.240\n1947-10-01    3.751   20.502      NaN    22.910   15.662\n1948-01-01    3.802   20.981      NaN    23.680   15.775\n...             ...      ...      ...       ...      ...\n2019-10-01  121.051  108.729  110.377   257.387  110.786\n2020-01-01  123.643  108.619  110.917   258.687  111.004\n2020-04-01  130.359  111.257  110.131   256.192  109.787\n2020-07-01  128.764  112.750  111.152   258.604  111.027\n2020-10-01  129.013  111.339  111.716   260.462  111.575\n\n[296 rows x 5 columns]"
     },
     "execution_count": 3,
     "metadata": {},
     "output_type": "execute_result"
    }
   ],
   "source": [
    "features = \"HCOMPBS OPHPBS PCEPI CPIAUCSL IPDBS\".split()\n",
    "\n",
    "fred_df = pd.DataFrame()\n",
    "for f in features:\n",
    "    series = fred.get_series(f)\n",
    "    series.name = f\n",
    "\n",
    "    fred_df[f] = series\n",
    "\n",
    "fred_df\n"
   ]
  },
  {
   "cell_type": "code",
   "execution_count": 17,
   "metadata": {},
   "outputs": [
    {
     "data": {
      "text/html": "<div>\n<style scoped>\n    .dataframe tbody tr th:only-of-type {\n        vertical-align: middle;\n    }\n\n    .dataframe tbody tr th {\n        vertical-align: top;\n    }\n\n    .dataframe thead th {\n        text-align: right;\n    }\n</style>\n<table border=\"1\" class=\"dataframe\">\n  <thead>\n    <tr style=\"text-align: right;\">\n      <th></th>\n      <th>year</th>\n      <th>month</th>\n      <th>incwage</th>\n      <th>incbus</th>\n      <th>incfarm</th>\n    </tr>\n  </thead>\n  <tbody>\n    <tr>\n      <th>0</th>\n      <td>1962</td>\n      <td>march</td>\n      <td>0.0</td>\n      <td>0.0</td>\n      <td>0.0</td>\n    </tr>\n    <tr>\n      <th>1</th>\n      <td>1962</td>\n      <td>march</td>\n      <td>99999999.0</td>\n      <td>99999999.0</td>\n      <td>99999999.0</td>\n    </tr>\n    <tr>\n      <th>2</th>\n      <td>1962</td>\n      <td>march</td>\n      <td>99999999.0</td>\n      <td>99999999.0</td>\n      <td>99999999.0</td>\n    </tr>\n    <tr>\n      <th>3</th>\n      <td>1962</td>\n      <td>march</td>\n      <td>1692.0</td>\n      <td>0.0</td>\n      <td>0.0</td>\n    </tr>\n    <tr>\n      <th>4</th>\n      <td>1962</td>\n      <td>march</td>\n      <td>1522.0</td>\n      <td>0.0</td>\n      <td>0.0</td>\n    </tr>\n  </tbody>\n</table>\n</div>",
      "text/plain": "   year  month     incwage      incbus     incfarm\n0  1962  march         0.0         0.0         0.0\n1  1962  march  99999999.0  99999999.0  99999999.0\n2  1962  march  99999999.0  99999999.0  99999999.0\n3  1962  march      1692.0         0.0         0.0\n4  1962  march      1522.0         0.0         0.0"
     },
     "execution_count": 17,
     "metadata": {},
     "output_type": "execute_result"
    }
   ],
   "source": [
    "cps_df = pd.read_stata(\"../data/earnings.dta\")\n",
    "cps_df = cps_df[[\n",
    "    \"year\",\n",
    "    \"month\",\n",
    "    \"incwage\",\n",
    "    \"incbus\",\n",
    "    \"incfarm\"\n",
    "]]\n",
    "\n",
    "cps_df.head()"
   ]
  },
  {
   "cell_type": "code",
   "execution_count": 18,
   "metadata": {},
   "outputs": [
    {
     "data": {
      "text/html": "<div>\n<style scoped>\n    .dataframe tbody tr th:only-of-type {\n        vertical-align: middle;\n    }\n\n    .dataframe tbody tr th {\n        vertical-align: top;\n    }\n\n    .dataframe thead th {\n        text-align: right;\n    }\n</style>\n<table border=\"1\" class=\"dataframe\">\n  <thead>\n    <tr style=\"text-align: right;\">\n      <th></th>\n      <th>year</th>\n      <th>month</th>\n      <th>inctot</th>\n    </tr>\n  </thead>\n  <tbody>\n    <tr>\n      <th>0</th>\n      <td>1962</td>\n      <td>march</td>\n      <td>0.0</td>\n    </tr>\n    <tr>\n      <th>3</th>\n      <td>1962</td>\n      <td>march</td>\n      <td>1692.0</td>\n    </tr>\n    <tr>\n      <th>4</th>\n      <td>1962</td>\n      <td>march</td>\n      <td>1522.0</td>\n    </tr>\n    <tr>\n      <th>5</th>\n      <td>1962</td>\n      <td>march</td>\n      <td>1500.0</td>\n    </tr>\n    <tr>\n      <th>6</th>\n      <td>1962</td>\n      <td>march</td>\n      <td>2300.0</td>\n    </tr>\n  </tbody>\n</table>\n</div>",
      "text/plain": "   year  month  inctot\n0  1962  march     0.0\n3  1962  march  1692.0\n4  1962  march  1522.0\n5  1962  march  1500.0\n6  1962  march  2300.0"
     },
     "execution_count": 18,
     "metadata": {},
     "output_type": "execute_result"
    }
   ],
   "source": [
    "wage_cols = [\n",
    "    \"incwage\",\n",
    "    \"incbus\",\n",
    "    \"incfarm\"\n",
    "]\n",
    "\n",
    "# Set top-codes to 0\n",
    "for c in wage_cols:\n",
    "    cps_df[c] = cps_df[c].replace(99999999, np.nan)\n",
    "    cps_df[c] = cps_df[c].replace(99999998, np.nan)\n",
    "\n",
    "cps_df = cps_df.dropna()\n",
    "\n",
    "# Sum the total income for each individual\n",
    "cps_df[\"inctot\"] = np.sum(cps_df[wage_cols], axis=1)\n",
    "cps_df = cps_df[[\"year\", \"month\", \"inctot\"]]\n",
    "\n",
    "cps_df.head()"
   ]
  },
  {
   "cell_type": "code",
   "execution_count": 19,
   "metadata": {},
   "outputs": [
    {
     "data": {
      "text/html": "<div>\n<style scoped>\n    .dataframe tbody tr th:only-of-type {\n        vertical-align: middle;\n    }\n\n    .dataframe tbody tr th {\n        vertical-align: top;\n    }\n\n    .dataframe thead th {\n        text-align: right;\n    }\n</style>\n<table border=\"1\" class=\"dataframe\">\n  <thead>\n    <tr style=\"text-align: right;\">\n      <th></th>\n      <th>year</th>\n      <th>month</th>\n      <th>inctot</th>\n      <th>date</th>\n    </tr>\n  </thead>\n  <tbody>\n    <tr>\n      <th>0</th>\n      <td>1962</td>\n      <td>1</td>\n      <td>0.0</td>\n      <td>1962-1-1</td>\n    </tr>\n    <tr>\n      <th>3</th>\n      <td>1962</td>\n      <td>1</td>\n      <td>1692.0</td>\n      <td>1962-1-1</td>\n    </tr>\n    <tr>\n      <th>4</th>\n      <td>1962</td>\n      <td>1</td>\n      <td>1522.0</td>\n      <td>1962-1-1</td>\n    </tr>\n    <tr>\n      <th>5</th>\n      <td>1962</td>\n      <td>1</td>\n      <td>1500.0</td>\n      <td>1962-1-1</td>\n    </tr>\n    <tr>\n      <th>6</th>\n      <td>1962</td>\n      <td>1</td>\n      <td>2300.0</td>\n      <td>1962-1-1</td>\n    </tr>\n    <tr>\n      <th>...</th>\n      <td>...</td>\n      <td>...</td>\n      <td>...</td>\n      <td>...</td>\n    </tr>\n    <tr>\n      <th>9957416</th>\n      <td>2020</td>\n      <td>1</td>\n      <td>9000.0</td>\n      <td>2020-1-1</td>\n    </tr>\n    <tr>\n      <th>9957417</th>\n      <td>2020</td>\n      <td>1</td>\n      <td>0.0</td>\n      <td>2020-1-1</td>\n    </tr>\n    <tr>\n      <th>9957418</th>\n      <td>2020</td>\n      <td>1</td>\n      <td>3187.0</td>\n      <td>2020-1-1</td>\n    </tr>\n    <tr>\n      <th>9957419</th>\n      <td>2020</td>\n      <td>1</td>\n      <td>0.0</td>\n      <td>2020-1-1</td>\n    </tr>\n    <tr>\n      <th>9957420</th>\n      <td>2020</td>\n      <td>1</td>\n      <td>120000.0</td>\n      <td>2020-1-1</td>\n    </tr>\n  </tbody>\n</table>\n<p>7192199 rows × 4 columns</p>\n</div>",
      "text/plain": "         year  month    inctot      date\n0        1962      1       0.0  1962-1-1\n3        1962      1    1692.0  1962-1-1\n4        1962      1    1522.0  1962-1-1\n5        1962      1    1500.0  1962-1-1\n6        1962      1    2300.0  1962-1-1\n...       ...    ...       ...       ...\n9957416  2020      1    9000.0  2020-1-1\n9957417  2020      1       0.0  2020-1-1\n9957418  2020      1    3187.0  2020-1-1\n9957419  2020      1       0.0  2020-1-1\n9957420  2020      1  120000.0  2020-1-1\n\n[7192199 rows x 4 columns]"
     },
     "execution_count": 19,
     "metadata": {},
     "output_type": "execute_result"
    }
   ],
   "source": [
    "qmap = {\n",
    "    \"january\":   1,\n",
    "    \"february\":  1,\n",
    "    \"march\":     1,\n",
    "    \"april\":     4,\n",
    "    \"may\":       4,\n",
    "    \"june\":      4,\n",
    "    \"july\":      7,\n",
    "    \"august\":    7,\n",
    "    \"september\": 7,\n",
    "    \"october\":   10,\n",
    "    \"november\":  10,\n",
    "    \"december\": 10,\n",
    "}\n",
    "\n",
    "cps_df[\"month\"] = cps_df[\"month\"].map(qmap)\n",
    "cps_df[\"date\"]  = cps_df[\"year\"].astype(str) + '-' + cps_df[\"month\"].astype(str) + \"-1\"\n",
    "cps_df"
   ]
  },
  {
   "cell_type": "code",
   "execution_count": 25,
   "metadata": {},
   "outputs": [
    {
     "data": {
      "text/html": "<div>\n<style scoped>\n    .dataframe tbody tr th:only-of-type {\n        vertical-align: middle;\n    }\n\n    .dataframe tbody tr th {\n        vertical-align: top;\n    }\n\n    .dataframe thead th {\n        text-align: right;\n    }\n</style>\n<table border=\"1\" class=\"dataframe\">\n  <thead>\n    <tr style=\"text-align: right;\">\n      <th></th>\n      <th>count</th>\n      <th>sum</th>\n      <th>median</th>\n      <th>avg</th>\n    </tr>\n    <tr>\n      <th>date</th>\n      <th></th>\n      <th></th>\n      <th></th>\n      <th></th>\n    </tr>\n  </thead>\n  <tbody>\n    <tr>\n      <th>1962-1-1</th>\n      <td>53508</td>\n      <td>120440806.0</td>\n      <td>500.0</td>\n      <td>2250.893436</td>\n    </tr>\n    <tr>\n      <th>1963-1-1</th>\n      <td>35687</td>\n      <td>82304251.0</td>\n      <td>500.0</td>\n      <td>2306.281027</td>\n    </tr>\n    <tr>\n      <th>1964-1-1</th>\n      <td>54530</td>\n      <td>134298022.0</td>\n      <td>600.0</td>\n      <td>2462.828205</td>\n    </tr>\n    <tr>\n      <th>1965-1-1</th>\n      <td>54494</td>\n      <td>140806234.0</td>\n      <td>669.5</td>\n      <td>2583.885088</td>\n    </tr>\n    <tr>\n      <th>1966-1-1</th>\n      <td>110034</td>\n      <td>298278451.0</td>\n      <td>700.0</td>\n      <td>2710.784403</td>\n    </tr>\n  </tbody>\n</table>\n</div>",
      "text/plain": "           count          sum  median          avg\ndate                                              \n1962-1-1   53508  120440806.0   500.0  2250.893436\n1963-1-1   35687   82304251.0   500.0  2306.281027\n1964-1-1   54530  134298022.0   600.0  2462.828205\n1965-1-1   54494  140806234.0   669.5  2583.885088\n1966-1-1  110034  298278451.0   700.0  2710.784403"
     },
     "execution_count": 25,
     "metadata": {},
     "output_type": "execute_result"
    }
   ],
   "source": [
    "grp_df = cps_df.groupby(\n",
    "    by = [\"date\"]\n",
    ")[\"inctot\"]\n",
    "\n",
    "stat_df = pd.DataFrame()\n",
    "stat_df[\"count\"] =  grp_df.count()\n",
    "stat_df[\"sum\"] =  grp_df.sum()\n",
    "stat_df[\"median\"] =  grp_df.median()\n",
    "stat_df[\"mean\"] =  grp_df.mean()\n",
    "\n",
    "stat_df.head()\n",
    "\n",
    "# cps_df[\"timestamp\"] = cps_df.apply(lambda row: dt.datetime(\n",
    "#     row[\"year\"].astype(int),\n",
    "#     row[\"month\"].astype(int),\n",
    "#     1,\n",
    "# ), axis = 1)"
   ]
  }
 ],
 "metadata": {
  "kernelspec": {
   "display_name": "Python 3.8.5 64-bit ('base': conda)",
   "name": "python385jvsc74a57bd0efbb5f7d76e5561efa460d8a45b55d0b8eb2623c98d4274e36b0d68e9bc5c8fe"
  },
  "language_info": {
   "codemirror_mode": {
    "name": "ipython",
    "version": 3
   },
   "file_extension": ".py",
   "mimetype": "text/x-python",
   "name": "python",
   "nbconvert_exporter": "python",
   "pygments_lexer": "ipython3",
   "version": "3.8.5"
  },
  "orig_nbformat": 2
 },
 "nbformat": 4,
 "nbformat_minor": 2
}